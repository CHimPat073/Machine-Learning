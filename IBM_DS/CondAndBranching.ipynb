{
 "cells": [
  {
   "cell_type": "code",
   "execution_count": 1,
   "id": "80d19b02",
   "metadata": {},
   "outputs": [
    {
     "data": {
      "text/plain": [
       "False"
      ]
     },
     "execution_count": 1,
     "metadata": {},
     "output_type": "execute_result"
    }
   ],
   "source": [
    "'''Let's assign  a  a value of 5. Use the equality \n",
    "operator denoted with two equal == signs to determine \n",
    "if two values are equal. The case below compares the variable a with 6.'''\n",
    "a = 5\n",
    "a == 6"
   ]
  },
  {
   "cell_type": "code",
   "execution_count": 2,
   "id": "5e3e69f8",
   "metadata": {},
   "outputs": [
    {
     "data": {
      "text/plain": [
       "True"
      ]
     },
     "execution_count": 2,
     "metadata": {},
     "output_type": "execute_result"
    }
   ],
   "source": [
    "# Greater than Sign\n",
    "\n",
    "i = 6\n",
    "i > 5"
   ]
  },
  {
   "cell_type": "code",
   "execution_count": 3,
   "id": "673bc792",
   "metadata": {},
   "outputs": [
    {
     "data": {
      "text/plain": [
       "False"
      ]
     },
     "execution_count": 3,
     "metadata": {},
     "output_type": "execute_result"
    }
   ],
   "source": [
    "i = 2\n",
    "i > 5"
   ]
  },
  {
   "cell_type": "code",
   "execution_count": 4,
   "id": "11823218",
   "metadata": {},
   "outputs": [
    {
     "data": {
      "text/plain": [
       "True"
      ]
     },
     "execution_count": 4,
     "metadata": {},
     "output_type": "execute_result"
    }
   ],
   "source": [
    "#inequality operator\n",
    " \n",
    "i = 2\n",
    "i != 6"
   ]
  },
  {
   "cell_type": "code",
   "execution_count": 5,
   "metadata": {},
   "outputs": [
    {
     "data": {
      "text/plain": [
       "False"
      ]
     },
     "execution_count": 5,
     "metadata": {},
     "output_type": "execute_result"
    }
   ],
   "source": [
    " \n",
    "i = 6\n",
    "i != 6"
   ]
  },
  {
   "cell_type": "code",
   "execution_count": 6,
   "id": "40488217",
   "metadata": {},
   "outputs": [
    {
     "data": {
      "text/plain": [
       "False"
      ]
     },
     "execution_count": 6,
     "metadata": {},
     "output_type": "execute_result"
    }
   ],
   "source": [
    "'''We can apply the same methods on strings. \n",
    "For example, we can use an equality operator on two different strings. \n",
    "As the strings are not equal, we get a False.'''\n",
    "\n",
    "\"ACDC\" == \"The Bodyguard\""
   ]
  },
  {
   "cell_type": "code",
   "execution_count": 7,
   "id": "4f317d15",
   "metadata": {},
   "outputs": [
    {
     "data": {
      "text/plain": [
       "True"
      ]
     },
     "execution_count": 7,
     "metadata": {},
     "output_type": "execute_result"
    }
   ],
   "source": [
    "\"ACDC\" != \"The Bodyguard\""
   ]
  },
  {
   "cell_type": "code",
   "execution_count": null,
   "id": "88f1b30b",
   "metadata": {},
   "outputs": [
    {
     "data": {
      "text/plain": [
       "True"
      ]
     },
     "execution_count": 9,
     "metadata": {},
     "output_type": "execute_result"
    }
   ],
   "source": [
    "'a'<'b' #This is based on the ASCII \n",
    "'''For example, the ASCII code for ! is 33, while the ASCII code for + is 43.\n",
    " Therefore + is larger than ! as 43 is greater than 33.'''"
   ]
  },
  {
   "cell_type": "code",
   "execution_count": null,
   "id": "33b6e559",
   "metadata": {},
   "outputs": [
    {
     "data": {
      "text/plain": [
       "True"
      ]
     },
     "execution_count": 10,
     "metadata": {},
     "output_type": "execute_result"
    },
    {
     "ename": "",
     "evalue": "",
     "output_type": "error",
     "traceback": [
      "\u001b[1;31mThe Kernel crashed while executing code in the current cell or a previous cell. \n",
      "\u001b[1;31mPlease review the code in the cell(s) to identify a possible cause of the failure. \n",
      "\u001b[1;31mClick <a href='https://aka.ms/vscodeJupyterKernelCrash'>here</a> for more info. \n",
      "\u001b[1;31mView Jupyter <a href='command:jupyter.viewOutput'>log</a> for further details."
     ]
    }
   ],
   "source": [
    "'BA' > 'AB' #Case Sensitivity"
   ]
  },
  {
   "cell_type": "markdown",
   "id": "5958ac80",
   "metadata": {},
   "source": [
    "#Branching \n",
    "If Else Statement\n"
   ]
  },
  {
   "cell_type": "code",
   "execution_count": null,
   "id": "b342acf4",
   "metadata": {},
   "outputs": [],
   "source": []
  }
 ],
 "metadata": {
  "kernelspec": {
   "display_name": "Python 3",
   "language": "python",
   "name": "python3"
  },
  "language_info": {
   "codemirror_mode": {
    "name": "ipython",
    "version": 3
   },
   "file_extension": ".py",
   "mimetype": "text/x-python",
   "name": "python",
   "nbconvert_exporter": "python",
   "pygments_lexer": "ipython3",
   "version": "3.11.4"
  }
 },
 "nbformat": 4,
 "nbformat_minor": 5
}
