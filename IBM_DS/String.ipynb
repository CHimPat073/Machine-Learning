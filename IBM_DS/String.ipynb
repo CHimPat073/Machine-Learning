{
 "cells": [
  {
   "cell_type": "code",
   "execution_count": null,
   "id": "7207956f",
   "metadata": {},
   "outputs": [],
   "source": [
    "#String Formating "
   ]
  },
  {
   "cell_type": "code",
   "execution_count": 3,
   "id": "f5189c22",
   "metadata": {},
   "outputs": [],
   "source": [
    "name =\"Himanshu\"\n",
    "age=20"
   ]
  },
  {
   "cell_type": "code",
   "execution_count": 4,
   "id": "53ed5b0c",
   "metadata": {},
   "outputs": [
    {
     "name": "stdout",
     "output_type": "stream",
     "text": [
      "My name is Himanshu and my age is 20\n"
     ]
    }
   ],
   "source": [
    "#F String\n",
    "print(f\"My name is {name} and my age is {age}\")"
   ]
  },
  {
   "cell_type": "code",
   "execution_count": 5,
   "id": "9b99f8d4",
   "metadata": {},
   "outputs": [
    {
     "name": "stdout",
     "output_type": "stream",
     "text": [
      "My name is Himanshu and my age is 20 .\n"
     ]
    }
   ],
   "source": [
    "#.formatting\n",
    "print(\"My name is {} and my age is {} .\".format(name, age))"
   ]
  },
  {
   "cell_type": "code",
   "execution_count": 6,
   "id": "dc649988",
   "metadata": {},
   "outputs": [
    {
     "name": "stdout",
     "output_type": "stream",
     "text": [
      "My name is Himanshu and  my age is 20 .\n"
     ]
    }
   ],
   "source": [
    "#Operator\n",
    "print(\"My name is %s and  my age is %d .\"%(name, age))"
   ]
  },
  {
   "cell_type": "code",
   "execution_count": 10,
   "id": "bbe6f13e",
   "metadata": {},
   "outputs": [
    {
     "name": "stdout",
     "output_type": "stream",
     "text": [
      "Regular_string E:\n",
      "achine-Learning\\IBM_DS\\String.ipynb\n"
     ]
    }
   ],
   "source": [
    "#Raw String\n",
    "Regular_string = \"E:\\nachine-Learning\\IBM_DS\\String.ipynb\"\n",
    "print(\"Regular_string\",Regular_string)"
   ]
  },
  {
   "cell_type": "code",
   "execution_count": 11,
   "id": "cbb9e21c",
   "metadata": {},
   "outputs": [
    {
     "name": "stdout",
     "output_type": "stream",
     "text": [
      "Raw_string E:\\nachine-Learning\\IBM_DS\\String.ipynb\n"
     ]
    }
   ],
   "source": [
    "Raw_string = r\"E:\\nachine-Learning\\IBM_DS\\String.ipynb\"\n",
    "print(\"Raw_string\",Raw_string)  "
   ]
  },
  {
   "cell_type": "code",
   "execution_count": null,
   "id": "6c6143b8",
   "metadata": {},
   "outputs": [
    {
     "name": "stdout",
     "output_type": "stream",
     "text": [
      "H\n"
     ]
    }
   ],
   "source": [
    "#Stings\n",
    "name  = \"Himanshu\"\n",
    "print(name[0])  # H #getting values using Index\n"
   ]
  },
  {
   "cell_type": "code",
   "execution_count": 25,
   "id": "0bfb21b3",
   "metadata": {},
   "outputs": [
    {
     "name": "stdout",
     "output_type": "stream",
     "text": [
      "u\n",
      "H\n"
     ]
    }
   ],
   "source": [
    "#neagative indexing\n",
    "print(name[-1]) \n",
    "print(name[-8]) "
   ]
  },
  {
   "cell_type": "code",
   "execution_count": 23,
   "id": "a24c13c2",
   "metadata": {},
   "outputs": [
    {
     "data": {
      "text/plain": [
       "8"
      ]
     },
     "execution_count": 23,
     "metadata": {},
     "output_type": "execute_result"
    }
   ],
   "source": [
    "len(name) #length of string"
   ]
  },
  {
   "cell_type": "code",
   "execution_count": 28,
   "id": "2f5c333f",
   "metadata": {},
   "outputs": [
    {
     "data": {
      "text/plain": [
       "'anshu'"
      ]
     },
     "execution_count": 28,
     "metadata": {},
     "output_type": "execute_result"
    }
   ],
   "source": [
    "name[0:3]\n",
    "name[3:8]"
   ]
  },
  {
   "cell_type": "code",
   "execution_count": null,
   "id": "46e58561",
   "metadata": {},
   "outputs": [
    {
     "data": {
      "text/plain": [
       "'Hmnh'"
      ]
     },
     "execution_count": 29,
     "metadata": {},
     "output_type": "execute_result"
    }
   ],
   "source": [
    "name[::2] #jump 1 character"
   ]
  },
  {
   "cell_type": "code",
   "execution_count": null,
   "id": "45bdd0cb",
   "metadata": {},
   "outputs": [
    {
     "data": {
      "text/plain": [
       "'Hm'"
      ]
     },
     "execution_count": 30,
     "metadata": {},
     "output_type": "execute_result"
    }
   ],
   "source": [
    "name[:4:2] #jump 1 character from start to 4th index"
   ]
  },
  {
   "cell_type": "code",
   "execution_count": 32,
   "id": "a3c11f38",
   "metadata": {},
   "outputs": [
    {
     "data": {
      "text/plain": [
       "'Himanshu is the best programmer in the world'"
      ]
     },
     "execution_count": 32,
     "metadata": {},
     "output_type": "execute_result"
    }
   ],
   "source": [
    "#Sting Concatination\n",
    "statement = name + \" is the best programmer in the world\"\n",
    "statement"
   ]
  },
  {
   "cell_type": "code",
   "execution_count": 35,
   "id": "70d44ab9",
   "metadata": {},
   "outputs": [
    {
     "data": {
      "text/plain": [
       "'The BodyGuardThe BodyGuardThe BodyGuard'"
      ]
     },
     "execution_count": 35,
     "metadata": {},
     "output_type": "execute_result"
    }
   ],
   "source": [
    "3 * \"The BodyGuard\"\n"
   ]
  },
  {
   "cell_type": "code",
   "execution_count": 34,
   "id": "f4fe7381",
   "metadata": {},
   "outputs": [
    {
     "data": {
      "text/plain": [
       "'HimanshuHimanshuHimanshu'"
      ]
     },
     "execution_count": 34,
     "metadata": {},
     "output_type": "execute_result"
    }
   ],
   "source": [
    "3* name"
   ]
  },
  {
   "cell_type": "code",
   "execution_count": 36,
   "id": "a661c71e",
   "metadata": {},
   "outputs": [
    {
     "name": "stdout",
     "output_type": "stream",
     "text": [
      "Himanshu's \"Python\" Course\n"
     ]
    }
   ],
   "source": [
    "#Escape Sequence\n",
    "print(\"Himanshu's \\\"Python\\\" Course\")  # using \\ to escape double"
   ]
  },
  {
   "cell_type": "code",
   "execution_count": 38,
   "id": "a0718ce4",
   "metadata": {},
   "outputs": [
    {
     "name": "stdout",
     "output_type": "stream",
     "text": [
      " The BodyGuard\n",
      " is the best album\n"
     ]
    }
   ],
   "source": [
    "print(\" The BodyGuard\\n is the best album\" ) # \\n new line"
   ]
  },
  {
   "cell_type": "code",
   "execution_count": 44,
   "id": "1a5d3afc",
   "metadata": {},
   "outputs": [
    {
     "name": "stdout",
     "output_type": "stream",
     "text": [
      " The BodyGuard\t is the best album\n"
     ]
    }
   ],
   "source": [
    "print(\" The BodyGuard\\t is the best album\" ) #tab space"
   ]
  },
  {
   "cell_type": "code",
   "execution_count": 45,
   "id": "6a6607fd",
   "metadata": {},
   "outputs": [
    {
     "name": "stdout",
     "output_type": "stream",
     "text": [
      " The BodyGuard \\ is the best album\n"
     ]
    }
   ],
   "source": [
    "print(\" The BodyGuard \\\\ is the best album\" ) #backslash"
   ]
  },
  {
   "cell_type": "code",
   "execution_count": 46,
   "id": "39adb2ad",
   "metadata": {},
   "outputs": [
    {
     "name": "stdout",
     "output_type": "stream",
     "text": [
      " The BodyGuard \\ is the best album\n"
     ]
    }
   ],
   "source": [
    "print(r\" The BodyGuard \\ is the best album\" ) #Raw_string"
   ]
  },
  {
   "cell_type": "code",
   "execution_count": 47,
   "id": "30a9d2f5",
   "metadata": {},
   "outputs": [
    {
     "name": "stdout",
     "output_type": "stream",
     "text": [
      "before upper: Thriller is the sixth studio album\n",
      "After upper: THRILLER IS THE SIXTH STUDIO ALBUM\n"
     ]
    }
   ],
   "source": [
    "#String Manipulation\n",
    "\n",
    "a = \"Thriller is the sixth studio album\"\n",
    "print(\"before upper:\", a)\n",
    "b = a.upper()\n",
    "print(\"After upper:\", b)"
   ]
  },
  {
   "cell_type": "code",
   "execution_count": 48,
   "id": "47bcd93c",
   "metadata": {},
   "outputs": [
    {
     "data": {
      "text/plain": [
       "'The Janet is the best album'"
      ]
     },
     "execution_count": 48,
     "metadata": {},
     "output_type": "execute_result"
    }
   ],
   "source": [
    "\n",
    "a = \"The BodyGuard is the best album\"\n",
    "b = a.replace('BodyGuard', 'Janet')\n",
    "b"
   ]
  },
  {
   "cell_type": "code",
   "execution_count": 49,
   "id": "5562c5fa",
   "metadata": {},
   "outputs": [],
   "source": [
    "#Regular expression\n",
    "import re"
   ]
  },
  {
   "cell_type": "code",
   "execution_count": 50,
   "id": "7c54edd8",
   "metadata": {},
   "outputs": [
    {
     "name": "stdout",
     "output_type": "stream",
     "text": [
      "Match found!\n"
     ]
    }
   ],
   "source": [
    "s1 = \"The BodyGuard is the best album\"\n",
    "\n",
    "# Define the pattern to search for\n",
    "pattern = r\"Body\"\n",
    "\n",
    "# Use the search() function to search for the pattern in the string\n",
    "result = re.search(pattern, s1)\n",
    "\n",
    "# Check if a match was found\n",
    "if result:\n",
    "    print(\"Match found!\")\n",
    "else:\n",
    "    print(\"Match not found.\")\n"
   ]
  },
  {
   "cell_type": "code",
   "execution_count": 52,
   "id": "77c9e7c3",
   "metadata": {},
   "outputs": [
    {
     "name": "stdout",
     "output_type": "stream",
     "text": [
      "Match found!\n"
     ]
    }
   ],
   "source": [
    "s1 = \"The BodyGuard is phone number 123-456-7890\"\n",
    "\n",
    "# Define the pattern to search for\n",
    "# pattern = r\"Body\"\n",
    "\n",
    "# Use the search() function to search for the pattern in the string\n",
    "result = re.search(r\"\\D\", s1)\n",
    "\n",
    "# Check if a match was found\n",
    "if result:\n",
    "    print(\"Match found!\")\n",
    "else:\n",
    "    print(\"Match not found.\")\n"
   ]
  },
  {
   "cell_type": "code",
   "execution_count": null,
   "id": "1f63171b",
   "metadata": {},
   "outputs": [
    {
     "name": "stdout",
     "output_type": "stream",
     "text": [
      "Phone number found: 12345678\n"
     ]
    }
   ],
   "source": [
    "pattern = r\"\\d\\d\\d\\d\\d\\d\\d\\d\"  # Matches any ten consecutive digits\n",
    "text = \"My Phone number is 1234567890\"\n",
    "match = re.search(pattern, text)\n",
    "\n",
    "if match:\n",
    "    print(\"Phone number found:\", match.group())  # retrieve the part of the string where the regular expression pattern matched.\n",
    "else:\n",
    "    print(\"No match\")"
   ]
  },
  {
   "cell_type": "code",
   "execution_count": 56,
   "id": "cf0aae2f",
   "metadata": {},
   "outputs": [
    {
     "name": "stdout",
     "output_type": "stream",
     "text": [
      "Matches: [',', ' ', '!']\n"
     ]
    }
   ],
   "source": [
    "pattern = r\"\\W\"  # Matches any non-word character\n",
    "text = \"Hello, world!\"\n",
    "matches = re.findall(pattern, text)\n",
    "\n",
    "print(\"Matches:\", matches)"
   ]
  },
  {
   "cell_type": "code",
   "execution_count": 61,
   "id": "fd38d533",
   "metadata": {},
   "outputs": [
    {
     "name": "stdout",
     "output_type": "stream",
     "text": [
      "['The', 'BodyGuard_is', 'the', 'best', 'album_of', \"'Whitney\", \"Houston'.\"]\n",
      "After substitution: The BodyGuard_is the best song_of 'Whitney Houston'.\n"
     ]
    }
   ],
   "source": [
    "s2 = \"The BodyGuard_is the best album_of 'Whitney Houston'.\"\n",
    "# Use the split function to split the string by the \"\\s\"\n",
    "split_array = re.split(r\"\\s\", s2)\n",
    "\n",
    "# The split_array contains all the substrings, split by whitespace characters\n",
    "print(split_array)\n",
    "\n",
    "str4=re.sub(\"album\", \"song\", s2)  # Replace 'album' with 'song'\n",
    "print(\"After substitution:\", str4)"
   ]
  },
  {
   "cell_type": "code",
   "execution_count": 62,
   "id": "e1920929",
   "metadata": {},
   "outputs": [
    {
     "data": {
      "text/plain": [
       "'56'"
      ]
     },
     "execution_count": 62,
     "metadata": {},
     "output_type": "execute_result"
    }
   ],
   "source": [
    "'5' + '6'"
   ]
  },
  {
   "cell_type": "code",
   "execution_count": null,
   "id": "5a0aac6f",
   "metadata": {},
   "outputs": [
    {
     "data": {
      "text/plain": [
       "'-12345'"
      ]
     },
     "execution_count": 68,
     "metadata": {},
     "output_type": "execute_result"
    },
    {
     "ename": "",
     "evalue": "",
     "output_type": "error",
     "traceback": [
      "\u001b[1;31mThe Kernel crashed while executing code in the current cell or a previous cell. \n",
      "\u001b[1;31mPlease review the code in the cell(s) to identify a possible cause of the failure. \n",
      "\u001b[1;31mClick <a href='https://aka.ms/vscodeJupyterKernelCrash'>here</a> for more info. \n",
      "\u001b[1;31mView Jupyter <a href='command:jupyter.viewOutput'>log</a> for further details."
     ]
    }
   ],
   "source": [
    "x=\"ABC-12345-XYZ\"\n",
    "x[3:9]\n"
   ]
  },
  {
   "cell_type": "code",
   "execution_count": null,
   "id": "03e03d54",
   "metadata": {},
   "outputs": [],
   "source": []
  }
 ],
 "metadata": {
  "kernelspec": {
   "display_name": "Python 3",
   "language": "python",
   "name": "python3"
  },
  "language_info": {
   "codemirror_mode": {
    "name": "ipython",
    "version": 3
   },
   "file_extension": ".py",
   "mimetype": "text/x-python",
   "name": "python",
   "nbconvert_exporter": "python",
   "pygments_lexer": "ipython3",
   "version": "3.11.4"
  }
 },
 "nbformat": 4,
 "nbformat_minor": 5
}
